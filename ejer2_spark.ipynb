{
 "cells": [
  {
   "cell_type": "markdown",
   "metadata": {},
   "source": [
    "VAMOS A TRABAJAR CON EL ARCHIVO CREADO EN EL EJERCICIO 1 \"transacciones\" en HDFS"
   ]
  },
  {
   "cell_type": "code",
   "execution_count": 6,
   "metadata": {},
   "outputs": [
    {
     "name": "stderr",
     "output_type": "stream",
     "text": [
      "Setting default log level to \"WARN\".\n",
      "To adjust logging level use sc.setLogLevel(newLevel). For SparkR, use setLogLevel(newLevel).\n"
     ]
    },
    {
     "name": "stdout",
     "output_type": "stream",
     "text": [
      "2024-06-11T22:32:57,752 WARN [Thread-4] org.apache.hadoop.util.NativeCodeLoader - Unable to load native-hadoop library for your platform... using builtin-java classes where applicable\n"
     ]
    }
   ],
   "source": [
    "#con spark context levanto los n archivos del cluster y lo trato como un solo archivo\n",
    "#spark context ya lo trae por defecto el notebook trabajando sobre cluster por eso no lo creo.\n",
    "\n",
    "from pyspark.sql import SparkSession #permite interactuar con Dataframe (datos en memoria)\n",
    "\n",
    "from pyspark.sql.functions import *\n",
    "from pyspark.sql.types import *\n",
    "\n",
    "spark = SparkSession \\\n",
    "    .builder \\\n",
    "    .appName(\"how to read csv file\") \\\n",
    "    .getOrCreate()"
   ]
  },
  {
   "cell_type": "markdown",
   "metadata": {},
   "source": [
    "<b>Cargo los datos en un dataframe de spark (EN MEMORIA)</b>"
   ]
  },
  {
   "cell_type": "code",
   "execution_count": 3,
   "metadata": {},
   "outputs": [
    {
     "name": "stderr",
     "output_type": "stream",
     "text": [
      "                                                                                \r"
     ]
    }
   ],
   "source": [
    "#cargamos en un dataframe en memoria el archivo que necesito del cluster\n",
    "#Si bien guardamos como texto separado por comas en ejercicio 1, podría ser otro el separador.\n",
    "\n",
    "df = spark.read.csv('output/raw/transacciones', header=False, sep='|')"
   ]
  },
  {
   "cell_type": "code",
   "execution_count": 4,
   "metadata": {},
   "outputs": [
    {
     "name": "stdout",
     "output_type": "stream",
     "text": [
      "+--------------------+--------------------+------+----+\n",
      "|                 _c0|                 _c1|   _c2| _c3|\n",
      "+--------------------+--------------------+------+----+\n",
      "|7a2abb43-6cc5-46a...|           SUPERCITO|RETIRO|7264|\n",
      "|6c8f3d4c-2dab-4bc...|           SUPERCITO|COMPRA|1937|\n",
      "|6c8f3d4c-2dab-4bc...|           SUPERCITO|COMPRA|2711|\n",
      "|34220fd5-02d3-48c...|RESTAURANTE EL TR...|RETIRO|8026|\n",
      "|f4922ec0-9318-40a...|           SUPERCITO|COMPRA|5125|\n",
      "|f4922ec0-9318-40a...|       ARENA COLISEO|RETIRO|3432|\n",
      "|b26797f5-6581-419...|RESTAURANTE EL TR...|RETIRO|2132|\n",
      "|6c8f3d4c-2dab-4bc...|RESTAURANTE EL TR...|COMPRA|2566|\n",
      "|f4922ec0-9318-40a...|RESTAURANTE EL TR...|RETIRO|5815|\n",
      "|34220fd5-02d3-48c...|       ARENA COLISEO|COMPRA|1954|\n",
      "|7a2abb43-6cc5-46a...|           SUPERCITO|COMPRA|5277|\n",
      "|b26797f5-6581-419...|       ARENA COLISEO|RETIRO|5330|\n",
      "|7a2abb43-6cc5-46a...|RESTAURANTE EL TR...|RETIRO|4156|\n",
      "|b26797f5-6581-419...|           SUPERCITO|RETIRO|3737|\n",
      "|34220fd5-02d3-48c...|           SUPERCITO|COMPRA|6142|\n",
      "|f4922ec0-9318-40a...|RESTAURANTE EL TR...|COMPRA|5896|\n",
      "|34220fd5-02d3-48c...|RESTAURANTE EL TR...|COMPRA|9266|\n",
      "|6c8f3d4c-2dab-4bc...|RESTAURANTE EL TR...|COMPRA|8612|\n",
      "|b26797f5-6581-419...|           SUPERCITO|RETIRO|1566|\n",
      "|7a2abb43-6cc5-46a...|RESTAURANTE EL TR...|COMPRA|6807|\n",
      "+--------------------+--------------------+------+----+\n",
      "only showing top 20 rows\n",
      "\n"
     ]
    }
   ],
   "source": [
    "#este show es como el de Pandas, pero Pandas es Onecore por lo que para millones de registros pandas no sirve.\n",
    "#Es un dataframe de Spark, por tanto esta distribuido y funciona en cluster y lo vemos en memoria.\n",
    "\n",
    "df.show()"
   ]
  },
  {
   "cell_type": "code",
   "execution_count": 5,
   "metadata": {},
   "outputs": [
    {
     "name": "stdout",
     "output_type": "stream",
     "text": [
      "root\n",
      " |-- _c0: string (nullable = true)\n",
      " |-- _c1: string (nullable = true)\n",
      " |-- _c2: string (nullable = true)\n",
      " |-- _c3: string (nullable = true)\n",
      "\n"
     ]
    }
   ],
   "source": [
    "# imprime el tipo de datos que spark comprende por defecto.\n",
    "df.printSchema()"
   ]
  },
  {
   "cell_type": "markdown",
   "metadata": {},
   "source": [
    "<b>En el dataframe anterior, como los datos no tienen un cabezal, nos queda con un cabezal por defecto</b>"
   ]
  },
  {
   "cell_type": "code",
   "execution_count": 6,
   "metadata": {},
   "outputs": [],
   "source": [
    "# Puedo definir el esquema con Sruct (como dato complejo de Python), acá le cambiamos el último tipo de datos al dato que conozco que es float.\n",
    "# Le agregamos nombres a las columnas \"header\" también\n",
    "\n",
    "schema = StructType([\\\n",
    "    StructField(\"id_cliente\", StringType(), True),\\\n",
    "    StructField(\"comercio\", StringType(), True),\\\n",
    "    StructField(\"accion\", StringType(), True),\n",
    "    StructField(\"monto\", FloatType(), True)\n",
    "])"
   ]
  },
  {
   "cell_type": "code",
   "execution_count": 7,
   "metadata": {},
   "outputs": [],
   "source": [
    "#Yo le indico cual esquema es el que debe usar cuando traiga la data del cluster, en este caso \"schema\"\n",
    "df = spark.read.csv('output/raw/transacciones', header=False, sep='|', schema=schema)"
   ]
  },
  {
   "cell_type": "code",
   "execution_count": 8,
   "metadata": {},
   "outputs": [
    {
     "data": {
      "text/plain": [
       "DataFrame[id_cliente: string, comercio: string, accion: string, monto: float]"
      ]
     },
     "execution_count": 8,
     "metadata": {},
     "output_type": "execute_result"
    }
   ],
   "source": [
    "df"
   ]
  },
  {
   "cell_type": "code",
   "execution_count": 9,
   "metadata": {},
   "outputs": [
    {
     "name": "stdout",
     "output_type": "stream",
     "text": [
      "+--------------------+--------------------+------+------+\n",
      "|          id_cliente|            comercio|accion| monto|\n",
      "+--------------------+--------------------+------+------+\n",
      "|7a2abb43-6cc5-46a...|           SUPERCITO|RETIRO|7264.0|\n",
      "|6c8f3d4c-2dab-4bc...|           SUPERCITO|COMPRA|1937.0|\n",
      "|6c8f3d4c-2dab-4bc...|           SUPERCITO|COMPRA|2711.0|\n",
      "|34220fd5-02d3-48c...|RESTAURANTE EL TR...|RETIRO|8026.0|\n",
      "|f4922ec0-9318-40a...|           SUPERCITO|COMPRA|5125.0|\n",
      "|f4922ec0-9318-40a...|       ARENA COLISEO|RETIRO|3432.0|\n",
      "|b26797f5-6581-419...|RESTAURANTE EL TR...|RETIRO|2132.0|\n",
      "|6c8f3d4c-2dab-4bc...|RESTAURANTE EL TR...|COMPRA|2566.0|\n",
      "|f4922ec0-9318-40a...|RESTAURANTE EL TR...|RETIRO|5815.0|\n",
      "|34220fd5-02d3-48c...|       ARENA COLISEO|COMPRA|1954.0|\n",
      "|7a2abb43-6cc5-46a...|           SUPERCITO|COMPRA|5277.0|\n",
      "|b26797f5-6581-419...|       ARENA COLISEO|RETIRO|5330.0|\n",
      "|7a2abb43-6cc5-46a...|RESTAURANTE EL TR...|RETIRO|4156.0|\n",
      "|b26797f5-6581-419...|           SUPERCITO|RETIRO|3737.0|\n",
      "|34220fd5-02d3-48c...|           SUPERCITO|COMPRA|6142.0|\n",
      "|f4922ec0-9318-40a...|RESTAURANTE EL TR...|COMPRA|5896.0|\n",
      "|34220fd5-02d3-48c...|RESTAURANTE EL TR...|COMPRA|9266.0|\n",
      "|6c8f3d4c-2dab-4bc...|RESTAURANTE EL TR...|COMPRA|8612.0|\n",
      "|b26797f5-6581-419...|           SUPERCITO|RETIRO|1566.0|\n",
      "|7a2abb43-6cc5-46a...|RESTAURANTE EL TR...|COMPRA|6807.0|\n",
      "+--------------------+--------------------+------+------+\n",
      "only showing top 20 rows\n",
      "\n"
     ]
    }
   ],
   "source": [
    "df.show()"
   ]
  },
  {
   "cell_type": "code",
   "execution_count": 10,
   "metadata": {},
   "outputs": [
    {
     "name": "stdout",
     "output_type": "stream",
     "text": [
      "root\n",
      " |-- id_cliente: string (nullable = true)\n",
      " |-- comercio: string (nullable = true)\n",
      " |-- accion: string (nullable = true)\n",
      " |-- monto: float (nullable = true)\n",
      "\n"
     ]
    }
   ],
   "source": [
    "df.printSchema()"
   ]
  },
  {
   "cell_type": "code",
   "execution_count": 11,
   "metadata": {},
   "outputs": [
    {
     "name": "stderr",
     "output_type": "stream",
     "text": [
      "                                                                                \r"
     ]
    },
    {
     "data": {
      "text/plain": [
       "1000000"
      ]
     },
     "execution_count": 11,
     "metadata": {},
     "output_type": "execute_result"
    }
   ],
   "source": [
    "#cuantos registros tiene\n",
    "# corre varios programas java sobre las particiones elvanta memoria, cuenta registros, temrina, lo pasa al padre, él lo junta y devuelve resultado.  \n",
    "\n",
    "df.count()"
   ]
  },
  {
   "cell_type": "code",
   "execution_count": 12,
   "metadata": {},
   "outputs": [],
   "source": [
    "# Casi misma sintaxis de Panda\n",
    "# No lo pongo en el mismo data frame (DF) sino que uso otro porque los DF son inmutables.\n",
    "# Si puedo hacer transformaciones para llevarlo a un nuevo DF (\"df2\")\n",
    "\n",
    "df2 = df.filter(df.comercio == \"SUPERCITO\")\n",
    "\n",
    "#Por ser transformación no demora a diferencia del show que es una acción."
   ]
  },
  {
   "cell_type": "code",
   "execution_count": 15,
   "metadata": {},
   "outputs": [
    {
     "name": "stdout",
     "output_type": "stream",
     "text": [
      "+--------------------+---------+------+------+\n",
      "|          id_cliente| comercio|accion| monto|\n",
      "+--------------------+---------+------+------+\n",
      "|7a2abb43-6cc5-46a...|SUPERCITO|RETIRO|7264.0|\n",
      "|6c8f3d4c-2dab-4bc...|SUPERCITO|COMPRA|1937.0|\n",
      "|6c8f3d4c-2dab-4bc...|SUPERCITO|COMPRA|2711.0|\n",
      "|f4922ec0-9318-40a...|SUPERCITO|COMPRA|5125.0|\n",
      "|7a2abb43-6cc5-46a...|SUPERCITO|COMPRA|5277.0|\n",
      "|b26797f5-6581-419...|SUPERCITO|RETIRO|3737.0|\n",
      "|34220fd5-02d3-48c...|SUPERCITO|COMPRA|6142.0|\n",
      "|b26797f5-6581-419...|SUPERCITO|RETIRO|1566.0|\n",
      "|34220fd5-02d3-48c...|SUPERCITO|RETIRO|9472.0|\n",
      "|b26797f5-6581-419...|SUPERCITO|RETIRO|8017.0|\n",
      "|34220fd5-02d3-48c...|SUPERCITO|COMPRA|5039.0|\n",
      "|6c8f3d4c-2dab-4bc...|SUPERCITO|COMPRA|1594.0|\n",
      "|7a2abb43-6cc5-46a...|SUPERCITO|RETIRO|1469.0|\n",
      "|b26797f5-6581-419...|SUPERCITO|RETIRO|5357.0|\n",
      "|6c8f3d4c-2dab-4bc...|SUPERCITO|COMPRA|3256.0|\n",
      "|b26797f5-6581-419...|SUPERCITO|RETIRO|9540.0|\n",
      "|7a2abb43-6cc5-46a...|SUPERCITO|COMPRA|8336.0|\n",
      "|f4922ec0-9318-40a...|SUPERCITO|COMPRA|4442.0|\n",
      "|b26797f5-6581-419...|SUPERCITO|COMPRA| 586.0|\n",
      "|6c8f3d4c-2dab-4bc...|SUPERCITO|RETIRO|8116.0|\n",
      "+--------------------+---------+------+------+\n",
      "only showing top 20 rows\n",
      "\n"
     ]
    }
   ],
   "source": [
    "# Mejor correr todas las Transformaciones necesarias antes de Acciones\n",
    "# Todo esto está en Memoría\n",
    "df2.show()"
   ]
  },
  {
   "cell_type": "code",
   "execution_count": 16,
   "metadata": {},
   "outputs": [
    {
     "name": "stderr",
     "output_type": "stream",
     "text": [
      "[Stage 11:>                                                         (0 + 2) / 2]\r"
     ]
    },
    {
     "name": "stdout",
     "output_type": "stream",
     "text": [
      "+----------------------+-------------+\n",
      "|comercio              |sum(monto)   |\n",
      "+----------------------+-------------+\n",
      "|SUPERCITO             |1.672819868E9|\n",
      "|RESTAURANTE EL TRABAJO|1.666856211E9|\n",
      "|ARENA COLISEO         |1.665255751E9|\n",
      "+----------------------+-------------+\n",
      "\n"
     ]
    },
    {
     "name": "stderr",
     "output_type": "stream",
     "text": [
      "                                                                                \r"
     ]
    }
   ],
   "source": [
    "# Quiero que agrupe por Comercio y me muestre el monto.\n",
    "# como es un show no lo guardo en otro DF, si necesitara exportarlo o alfgo usar un DF\n",
    "\n",
    "df.groupBy(\"comercio\").sum(\"monto\").show(truncate=False)"
   ]
  },
  {
   "cell_type": "markdown",
   "metadata": {},
   "source": [
    "<b>Vamos a crear una tabla sql y trabajar como si fuera sql standard</b>"
   ]
  },
  {
   "cell_type": "code",
   "execution_count": 17,
   "metadata": {},
   "outputs": [],
   "source": [
    "# Ya no voy a tratar como archivo csv sino como sql (como una tabla) \n",
    "# crea en memoria tabla temporal llamada transacciones\n",
    "\n",
    "df.createOrReplaceTempView(\"transacciones\")"
   ]
  },
  {
   "cell_type": "code",
   "execution_count": 18,
   "metadata": {},
   "outputs": [
    {
     "name": "stdout",
     "output_type": "stream",
     "text": [
      "+--------------------+--------------------+------+------+\n",
      "|          id_cliente|            comercio|accion| monto|\n",
      "+--------------------+--------------------+------+------+\n",
      "|7a2abb43-6cc5-46a...|           SUPERCITO|RETIRO|7264.0|\n",
      "|6c8f3d4c-2dab-4bc...|           SUPERCITO|COMPRA|1937.0|\n",
      "|6c8f3d4c-2dab-4bc...|           SUPERCITO|COMPRA|2711.0|\n",
      "|34220fd5-02d3-48c...|RESTAURANTE EL TR...|RETIRO|8026.0|\n",
      "|f4922ec0-9318-40a...|           SUPERCITO|COMPRA|5125.0|\n",
      "|f4922ec0-9318-40a...|       ARENA COLISEO|RETIRO|3432.0|\n",
      "|b26797f5-6581-419...|RESTAURANTE EL TR...|RETIRO|2132.0|\n",
      "|6c8f3d4c-2dab-4bc...|RESTAURANTE EL TR...|COMPRA|2566.0|\n",
      "|f4922ec0-9318-40a...|RESTAURANTE EL TR...|RETIRO|5815.0|\n",
      "|34220fd5-02d3-48c...|       ARENA COLISEO|COMPRA|1954.0|\n",
      "|7a2abb43-6cc5-46a...|           SUPERCITO|COMPRA|5277.0|\n",
      "|b26797f5-6581-419...|       ARENA COLISEO|RETIRO|5330.0|\n",
      "|7a2abb43-6cc5-46a...|RESTAURANTE EL TR...|RETIRO|4156.0|\n",
      "|b26797f5-6581-419...|           SUPERCITO|RETIRO|3737.0|\n",
      "|34220fd5-02d3-48c...|           SUPERCITO|COMPRA|6142.0|\n",
      "|f4922ec0-9318-40a...|RESTAURANTE EL TR...|COMPRA|5896.0|\n",
      "|34220fd5-02d3-48c...|RESTAURANTE EL TR...|COMPRA|9266.0|\n",
      "|6c8f3d4c-2dab-4bc...|RESTAURANTE EL TR...|COMPRA|8612.0|\n",
      "|b26797f5-6581-419...|           SUPERCITO|RETIRO|1566.0|\n",
      "|7a2abb43-6cc5-46a...|RESTAURANTE EL TR...|COMPRA|6807.0|\n",
      "+--------------------+--------------------+------+------+\n",
      "only showing top 20 rows\n",
      "\n"
     ]
    }
   ],
   "source": [
    "spark.sql(\"select * from transacciones\").show()"
   ]
  },
  {
   "cell_type": "code",
   "execution_count": 19,
   "metadata": {},
   "outputs": [
    {
     "name": "stderr",
     "output_type": "stream",
     "text": [
      "[Stage 15:>                                                         (0 + 2) / 2]\r"
     ]
    },
    {
     "name": "stdout",
     "output_type": "stream",
     "text": [
      "+--------------------+-------------+\n",
      "|            comercio|        total|\n",
      "+--------------------+-------------+\n",
      "|           SUPERCITO|1.672819868E9|\n",
      "|RESTAURANTE EL TR...|1.666856211E9|\n",
      "|       ARENA COLISEO|1.665255751E9|\n",
      "+--------------------+-------------+\n",
      "\n"
     ]
    },
    {
     "name": "stderr",
     "output_type": "stream",
     "text": [
      "                                                                                \r"
     ]
    }
   ],
   "source": [
    "spark.sql(\"select comercio, sum(monto) as  total from transacciones group by comercio\").show()"
   ]
  },
  {
   "cell_type": "markdown",
   "metadata": {},
   "source": [
    "<b>Ejercicio 1<b><p></p>\n",
    "Para cada comercio obtener y mostrar los máximos montos por acción."
   ]
  },
  {
   "cell_type": "code",
   "execution_count": 20,
   "metadata": {},
   "outputs": [
    {
     "name": "stderr",
     "output_type": "stream",
     "text": [
      "[Stage 18:>                                                         (0 + 2) / 2]\r"
     ]
    },
    {
     "name": "stdout",
     "output_type": "stream",
     "text": [
      "+--------------------+------+--------+\n",
      "|            comercio|accion|montoMax|\n",
      "+--------------------+------+--------+\n",
      "|           SUPERCITO|COMPRA| 10000.0|\n",
      "|           SUPERCITO|RETIRO| 10000.0|\n",
      "|       ARENA COLISEO|RETIRO| 10000.0|\n",
      "|RESTAURANTE EL TR...|COMPRA| 10000.0|\n",
      "|RESTAURANTE EL TR...|RETIRO| 10000.0|\n",
      "|       ARENA COLISEO|COMPRA| 10000.0|\n",
      "+--------------------+------+--------+\n",
      "\n"
     ]
    },
    {
     "name": "stderr",
     "output_type": "stream",
     "text": [
      "                                                                                \r"
     ]
    }
   ],
   "source": [
    "spark.sql(\"select comercio, accion, max(monto) as montoMax from transacciones group by comercio, accion\").show()"
   ]
  },
  {
   "cell_type": "markdown",
   "metadata": {},
   "source": [
    "<b>Ejercicio 2<b><p></p>\n",
    "Obtener y mostrar el top 10 de cantidad de transacciones por cliente y comercio"
   ]
  },
  {
   "cell_type": "code",
   "execution_count": 38,
   "metadata": {},
   "outputs": [
    {
     "name": "stderr",
     "output_type": "stream",
     "text": [
      "[Stage 37:>                                                         (0 + 2) / 2]\r"
     ]
    },
    {
     "name": "stdout",
     "output_type": "stream",
     "text": [
      "+--------------------+--------------------+-----------------+\n",
      "|          id_cliente|            comercio|cantTransacciones|\n",
      "+--------------------+--------------------+-----------------+\n",
      "|6c8f3d4c-2dab-4bc...|           SUPERCITO|            67127|\n",
      "|7a2abb43-6cc5-46a...|           SUPERCITO|            66899|\n",
      "|f4922ec0-9318-40a...|           SUPERCITO|            66859|\n",
      "|7a2abb43-6cc5-46a...|RESTAURANTE EL TR...|            66810|\n",
      "|34220fd5-02d3-48c...|       ARENA COLISEO|            66770|\n",
      "|34220fd5-02d3-48c...|           SUPERCITO|            66757|\n",
      "|b26797f5-6581-419...|       ARENA COLISEO|            66652|\n",
      "|6c8f3d4c-2dab-4bc...|       ARENA COLISEO|            66624|\n",
      "|f4922ec0-9318-40a...|       ARENA COLISEO|            66606|\n",
      "|34220fd5-02d3-48c...|RESTAURANTE EL TR...|            66604|\n",
      "+--------------------+--------------------+-----------------+\n",
      "\n"
     ]
    },
    {
     "name": "stderr",
     "output_type": "stream",
     "text": [
      "                                                                                \r"
     ]
    }
   ],
   "source": [
    "\n",
    "spark.sql(\"select id_cliente, comercio, count(accion) as cantTransacciones from transacciones group by id_cliente, comercio order by cantTransacciones DESC LIMIT 10\").show()"
   ]
  },
  {
   "cell_type": "markdown",
   "metadata": {},
   "source": [
    "<b>DATAFRAMES DESDE JSON</B>"
   ]
  },
  {
   "cell_type": "code",
   "execution_count": 1,
   "metadata": {},
   "outputs": [],
   "source": [
    "#Borrar este archivo por si lo tenemos en la Virtual Machine (de otras practicas)\n",
    "! rm -R data/world_bank*"
   ]
  },
  {
   "cell_type": "code",
   "execution_count": 2,
   "metadata": {},
   "outputs": [
    {
     "name": "stdout",
     "output_type": "stream",
     "text": [
      "--2024-06-11 22:27:42--  https://github.com/bradenrc/sparksql_pot/raw/master/world_bank.zip\n",
      "Resolving github.com (github.com)... 140.82.114.4\n",
      "Connecting to github.com (github.com)|140.82.114.4|:443... connected.\n",
      "HTTP request sent, awaiting response... 302 Found\n",
      "Location: https://raw.githubusercontent.com/bradenrc/sparksql_pot/master/world_bank.zip [following]\n",
      "--2024-06-11 22:27:42--  https://raw.githubusercontent.com/bradenrc/sparksql_pot/master/world_bank.zip\n",
      "Resolving raw.githubusercontent.com (raw.githubusercontent.com)... 185.199.111.133, 185.199.108.133, 185.199.109.133, ...\n",
      "Connecting to raw.githubusercontent.com (raw.githubusercontent.com)|185.199.111.133|:443... connected.\n",
      "HTTP request sent, awaiting response... 200 OK\n",
      "Length: 446064 (436K) [application/zip]\n",
      "Saving to: ‘data/world_bank.zip’\n",
      "\n",
      "world_bank.zip      100%[===================>] 435.61K  --.-KB/s    in 0.002s  \n",
      "\n",
      "2024-06-11 22:27:42 (174 MB/s) - ‘data/world_bank.zip’ saved [446064/446064]\n",
      "\n"
     ]
    }
   ],
   "source": [
    "#Traemos el archivo a nuestra máquina virtual en una carpeta que crea llamada data\n",
    "! wget https://github.com/bradenrc/sparksql_pot/raw/master/world_bank.zip -P data/"
   ]
  },
  {
   "cell_type": "code",
   "execution_count": 3,
   "metadata": {},
   "outputs": [
    {
     "name": "stdout",
     "output_type": "stream",
     "text": [
      "Archive:  data/world_bank.zip\n",
      "  inflating: data/world_bank/world_bank.json  \n"
     ]
    }
   ],
   "source": [
    "# Descomprimir el archivo .zip en data \n",
    "! unzip data/world_bank.zip -d data/world_bank"
   ]
  },
  {
   "cell_type": "code",
   "execution_count": 4,
   "metadata": {},
   "outputs": [],
   "source": [
    "# Borramos el .zip (seguimos en VM)\n",
    "! rm data/world_bank.zip"
   ]
  },
  {
   "cell_type": "code",
   "execution_count": 7,
   "metadata": {},
   "outputs": [
    {
     "name": "stderr",
     "output_type": "stream",
     "text": [
      "                                                                                \r"
     ]
    }
   ],
   "source": [
    "#Leemos el json\n",
    "world_bank = spark.read.json(\"file:///home/ort/notebooks/data/world_bank/world_bank.json\")"
   ]
  },
  {
   "cell_type": "code",
   "execution_count": 8,
   "metadata": {},
   "outputs": [
    {
     "name": "stdout",
     "output_type": "stream",
     "text": [
      "root\n",
      " |-- _id: struct (nullable = true)\n",
      " |    |-- $oid: string (nullable = true)\n",
      " |-- approvalfy: string (nullable = true)\n",
      " |-- board_approval_month: string (nullable = true)\n",
      " |-- boardapprovaldate: string (nullable = true)\n",
      " |-- borrower: string (nullable = true)\n",
      " |-- closingdate: string (nullable = true)\n",
      " |-- country_namecode: string (nullable = true)\n",
      " |-- countrycode: string (nullable = true)\n",
      " |-- countryname: string (nullable = true)\n",
      " |-- countryshortname: string (nullable = true)\n",
      " |-- docty: string (nullable = true)\n",
      " |-- envassesmentcategorycode: string (nullable = true)\n",
      " |-- grantamt: long (nullable = true)\n",
      " |-- ibrdcommamt: long (nullable = true)\n",
      " |-- id: string (nullable = true)\n",
      " |-- idacommamt: long (nullable = true)\n",
      " |-- impagency: string (nullable = true)\n",
      " |-- lendinginstr: string (nullable = true)\n",
      " |-- lendinginstrtype: string (nullable = true)\n",
      " |-- lendprojectcost: long (nullable = true)\n",
      " |-- majorsector_percent: array (nullable = true)\n",
      " |    |-- element: struct (containsNull = true)\n",
      " |    |    |-- Name: string (nullable = true)\n",
      " |    |    |-- Percent: long (nullable = true)\n",
      " |-- mjsector_namecode: array (nullable = true)\n",
      " |    |-- element: struct (containsNull = true)\n",
      " |    |    |-- code: string (nullable = true)\n",
      " |    |    |-- name: string (nullable = true)\n",
      " |-- mjtheme: array (nullable = true)\n",
      " |    |-- element: string (containsNull = true)\n",
      " |-- mjtheme_namecode: array (nullable = true)\n",
      " |    |-- element: struct (containsNull = true)\n",
      " |    |    |-- code: string (nullable = true)\n",
      " |    |    |-- name: string (nullable = true)\n",
      " |-- mjthemecode: string (nullable = true)\n",
      " |-- prodline: string (nullable = true)\n",
      " |-- prodlinetext: string (nullable = true)\n",
      " |-- productlinetype: string (nullable = true)\n",
      " |-- project_abstract: struct (nullable = true)\n",
      " |    |-- cdata: string (nullable = true)\n",
      " |-- project_name: string (nullable = true)\n",
      " |-- projectdocs: array (nullable = true)\n",
      " |    |-- element: struct (containsNull = true)\n",
      " |    |    |-- DocDate: string (nullable = true)\n",
      " |    |    |-- DocType: string (nullable = true)\n",
      " |    |    |-- DocTypeDesc: string (nullable = true)\n",
      " |    |    |-- DocURL: string (nullable = true)\n",
      " |    |    |-- EntityID: string (nullable = true)\n",
      " |-- projectfinancialtype: string (nullable = true)\n",
      " |-- projectstatusdisplay: string (nullable = true)\n",
      " |-- regionname: string (nullable = true)\n",
      " |-- sector: array (nullable = true)\n",
      " |    |-- element: struct (containsNull = true)\n",
      " |    |    |-- Name: string (nullable = true)\n",
      " |-- sector1: struct (nullable = true)\n",
      " |    |-- Name: string (nullable = true)\n",
      " |    |-- Percent: long (nullable = true)\n",
      " |-- sector2: struct (nullable = true)\n",
      " |    |-- Name: string (nullable = true)\n",
      " |    |-- Percent: long (nullable = true)\n",
      " |-- sector3: struct (nullable = true)\n",
      " |    |-- Name: string (nullable = true)\n",
      " |    |-- Percent: long (nullable = true)\n",
      " |-- sector4: struct (nullable = true)\n",
      " |    |-- Name: string (nullable = true)\n",
      " |    |-- Percent: long (nullable = true)\n",
      " |-- sector_namecode: array (nullable = true)\n",
      " |    |-- element: struct (containsNull = true)\n",
      " |    |    |-- code: string (nullable = true)\n",
      " |    |    |-- name: string (nullable = true)\n",
      " |-- sectorcode: string (nullable = true)\n",
      " |-- source: string (nullable = true)\n",
      " |-- status: string (nullable = true)\n",
      " |-- supplementprojectflg: string (nullable = true)\n",
      " |-- theme1: struct (nullable = true)\n",
      " |    |-- Name: string (nullable = true)\n",
      " |    |-- Percent: long (nullable = true)\n",
      " |-- theme_namecode: array (nullable = true)\n",
      " |    |-- element: struct (containsNull = true)\n",
      " |    |    |-- code: string (nullable = true)\n",
      " |    |    |-- name: string (nullable = true)\n",
      " |-- themecode: string (nullable = true)\n",
      " |-- totalamt: long (nullable = true)\n",
      " |-- totalcommamt: long (nullable = true)\n",
      " |-- url: string (nullable = true)\n",
      "\n"
     ]
    }
   ],
   "source": [
    "#leer el esquema que comprende spark\n",
    "world_bank.printSchema()"
   ]
  },
  {
   "cell_type": "code",
   "execution_count": 9,
   "metadata": {},
   "outputs": [
    {
     "name": "stdout",
     "output_type": "stream",
     "text": [
      "2024-06-11T22:34:30,001 WARN [Thread-4] org.apache.spark.sql.catalyst.util.package - Truncated the string representation of a plan since it was too large. This behavior can be adjusted by setting 'spark.sql.debug.maxToStringFields'.\n",
      "+--------------------+----------+--------------------+--------------------+--------------------+--------------------+--------------------+-----------+--------------------+------------------+--------------------+------------------------+--------+-----------+-------+----------+--------------------+--------------------+----------------+---------------+--------------------+--------------------+--------------------+--------------------+-----------+--------+--------------------+---------------+--------------------+--------------------+--------------------+--------------------+--------------------+--------------------+--------------------+--------------------+--------------------+--------------------+--------------------+--------------------+--------------+------+------+--------------------+--------------------+--------------------+--------------+---------+------------+--------------------+\n",
      "|                 _id|approvalfy|board_approval_month|   boardapprovaldate|            borrower|         closingdate|    country_namecode|countrycode|         countryname|  countryshortname|               docty|envassesmentcategorycode|grantamt|ibrdcommamt|     id|idacommamt|           impagency|        lendinginstr|lendinginstrtype|lendprojectcost| majorsector_percent|   mjsector_namecode|             mjtheme|    mjtheme_namecode|mjthemecode|prodline|        prodlinetext|productlinetype|    project_abstract|        project_name|         projectdocs|projectfinancialtype|projectstatusdisplay|          regionname|              sector|             sector1|             sector2|             sector3|             sector4|     sector_namecode|    sectorcode|source|status|supplementprojectflg|              theme1|      theme_namecode|     themecode| totalamt|totalcommamt|                 url|\n",
      "+--------------------+----------+--------------------+--------------------+--------------------+--------------------+--------------------+-----------+--------------------+------------------+--------------------+------------------------+--------+-----------+-------+----------+--------------------+--------------------+----------------+---------------+--------------------+--------------------+--------------------+--------------------+-----------+--------+--------------------+---------------+--------------------+--------------------+--------------------+--------------------+--------------------+--------------------+--------------------+--------------------+--------------------+--------------------+--------------------+--------------------+--------------+------+------+--------------------+--------------------+--------------------+--------------+---------+------------+--------------------+\n",
      "|{52b213b38594d8a2...|      1999|            November|2013-11-12T00:00:00Z|FEDERAL DEMOCRATI...|2018-07-07T00:00:00Z|Federal Democrati...|         ET|Federal Democrati...|          Ethiopia|Project Informati...|                       C|       0|          0|P129828| 130000000|MINISTRY OF EDUCA...|Investment Projec...|              IN|      550000000|[{Education, 46},...|[{EX, Education},...| [Human development]|[{8, Human develo...|       8,11|      PE|            IBRD/IDA|              L|{The development ...|Ethiopia General ...|[{28-AUG-2013, PI...|                 IDA|              Active|              Africa|[{Primary educati...|{Primary educatio...|{Secondary educat...|{Public administr...|{Tertiary educati...|[{EP, Primary edu...|   ET,BS,ES,EP|  IBRD|Active|                   N|{Education for al...|[{65, Education f...|            65|130000000|   130000000|http://www.worldb...|\n",
      "|{52b213b38594d8a2...|      2015|            November|2013-11-04T00:00:00Z|GOVERNMENT OF TUN...|                null|Republic of Tunis...|         TN| Republic of Tunisia|           Tunisia|Project Informati...|                       C| 4700000|          0|P144674|         0| MINISTRY OF FINANCE|Specific Investme...|              IN|        5700000|[{Public Administ...|[{BX, Public Admi...|[Economic managem...|[{1, Economic man...|        1,6|      RE|Recipient Execute...|              L|                null|TN: DTF Social Pr...|[{29-MAR-2013, PI...|               OTHER|              Active|Middle East and N...|[{Public administ...|{Public administr...|{General public a...|                null|                null|[{BS, Public admi...|         BZ,BS|  IBRD|Active|                   N|{Other economic m...|[{24, Other econo...|         54,24|        0|     4700000|http://www.worldb...|\n",
      "|{52b213b38594d8a2...|      2014|            November|2013-11-01T00:00:00Z|MINISTRY OF FINAN...|                null|         Tuvalu!$!TV|         TV|              Tuvalu|            Tuvalu|Resettlement Plan...|                       B|       0|          0|P145310|   6060000|MINISTRY OF TRANS...|Investment Projec...|              IN|        6060000|[{Transportation,...|[{TX, Transportat...|[Trade and integr...|[{5, Trade and in...|   5,2,11,6|      PE|            IBRD/IDA|              L|                null|Tuvalu Aviation I...|[{21-OCT-2013, RP...|                 IDA|              Active|East Asia and Pac...|[{Rural and Inter...|{Rural and Inter-...|                null|                null|                null|[{TI, Rural and I...|            TI|  IBRD|Active|                   Y|{Regional integra...|[{47, Regional in...|   52,81,25,47|  6060000|     6060000|http://www.worldb...|\n",
      "|{52b213b38594d8a2...|      2014|             October|2013-10-31T00:00:00Z|MIN. OF PLANNING ...|                null|Republic of Yemen...|         RY|   Republic of Yemen|Yemen, Republic of|Procurement Plan,...|                       C| 1500000|          0|P144665|         0|LABOR INTENSIVE P...|Technical Assista...|              IN|        1500000|[{Health and othe...|[{JX, Health and ...|[Social dev/gende...|[{7, Social dev/g...|        7,7|      RE|Recipient Execute...|              L|                null|Gov't and Civil S...|[{15-MAY-2013, PR...|               OTHER|              Active|Middle East and N...|[{Other social se...|{Other social ser...|                null|                null|                null|[{JB, Other socia...|            JB|  IBRD|Active|                   N|{Participation an...|[{57, Participati...|         59,57|        0|     1500000|http://www.worldb...|\n",
      "|{52b213b38594d8a2...|      2014|             October|2013-10-31T00:00:00Z| MINISTRY OF FINANCE|2019-04-30T00:00:00Z|Kingdom of Lesoth...|         LS|  Kingdom of Lesotho|           Lesotho|Project Informati...|                       B|       0|          0|P144933|  13100000|MINISTRY OF TRADE...|Investment Projec...|              IN|       15000000|[{Industry and tr...|[{YX, Industry an...|[Trade and integr...|[{5, Trade and in...|        5,4|      PE|            IBRD/IDA|              L|{The development ...|Second Private Se...|[{06-SEP-2013, PI...|                 IDA|              Active|              Africa|[{General industr...|{General industry...|{Other industry, 40}|   {SME Finance, 10}|                null|[{YZ, General ind...|      FH,YW,YZ|  IBRD|Active|                   N|{Export developme...|[{45, Export deve...|         41,45| 13100000|    13100000|http://www.worldb...|\n",
      "|{52b213b38594d8a2...|      2014|             October|2013-10-31T00:00:00Z|   REPUBLIC OF KENYA|                null|Republic of Kenya...|         KE|   Republic of Kenya|             Kenya|Integrated Safegu...|                       C|       0|          0|P146161|  10000000|                null|Investment Projec...|              IN|       66400000|[{Health and othe...|[{JX, Health and ...|[Social protectio...|[{6, Social prote...|        6,6|      PE|            IBRD/IDA|              L|                null|Additional Financ...|[{16-SEP-2013, IS...|                 IDA|              Active|              Africa|[{Other social se...|{Other social ser...|                null|                null|                null|[{JB, Other socia...|            JB|  IBRD|Active|                   Y|{Social safety ne...|[{54, Social safe...|            54| 10000000|    10000000|http://www.worldb...|\n",
      "|{52b213b38594d8a2...|      2014|             October|2013-10-29T00:00:00Z| GOVERNMENT OF INDIA|2019-06-30T00:00:00Z|Republic of India...|         IN|   Republic of India|             India|Project Appraisal...|                       A|       0|  500000000|P121185|         0|MINISTRY OF ROAD ...|Specific Investme...|              IN|     1146050000|[{Transportation,...|[{TX, Transportat...|[Public sector go...|[{2, Public secto...|        2,4|      PE|            IBRD/IDA|              L|{The development ...|National Highways...|[{02-OCT-2013, PA...|                IBRD|              Active|          South Asia|[{Rural and Inter...|{Rural and Inter-...|                null|                null|                null|[{TI, Rural and I...|            TI|  IBRD|Active|                   N|{Administrative a...|[{25, Administrat...|         39,25|500000000|   500000000|http://www.worldb...|\n",
      "|{52b213b38594d8a2...|      2014|             October|2013-10-29T00:00:00Z|PEOPLE'S REPUBLIC...|                null|People's Republic...|         CN|People's Republic...|             China|Project Appraisal...|                       C|27280000|          0|P127033|         0|NATIONAL ENERGY A...|Investment Projec...|              IN|       27280000|[{Energy and mini...|[{LX, Energy and ...|[Environment and ...|[{11, Environment...|       11,8|      GE|Global Environmen...|              L|{The development ...|China Renewable E...|[{18-SEP-2013, PA...|               OTHER|              Active|East Asia and Pac...|[{Other Renewable...|{Other Renewable ...|                null|                null|                null|[{LR, Other Renew...|            LR|  IBRD|Active|                   N|{Climate change, ...|[{81, Climate cha...|            81|        0|    27280000|http://www.worldb...|\n",
      "|{52b213b38594d8a2...|      2014|             October|2013-10-29T00:00:00Z|THE GOVERNMENT OF...|2018-12-31T00:00:00Z|Republic of India...|         IN|   Republic of India|             India|Project Appraisal...|                       B|       0|          0|P130164| 160000000|PUBLIC WORKS DEPA...|Specific Investme...|              IN|      227000000|[{Transportation,...|[{TX, Transportat...| [Rural development]|[{10, Rural devel...|       10,7|      PE|            IBRD/IDA|              L|{The development ...|Rajasthan Road Se...|[{01-OCT-2013, PA...|                 IDA|              Active|          South Asia|[{Rural and Inter...|{Rural and Inter-...|                null|                null|                null|[{TI, Rural and I...|            TI|  IBRD|Active|                   N|{Other rural deve...|[{79, Other rural...|            79|160000000|   160000000|http://www.worldb...|\n",
      "|{52b213b38594d8a2...|      2014|             October|2013-10-29T00:00:00Z|THE KINGDOM OF MO...|2014-12-31T00:00:00Z|Kingdom of Morocc...|         MA|  Kingdom of Morocco|           Morocco|Program Document,...|                    null|       0|  200000000|P130903|         0| MINISTRY OF FINANCE|Development Polic...|              AD|      200000000|[{Public Administ...|[{BX, Public Admi...|[Public sector go...|[{2, Public secto...|      2,2,2|      PE|            IBRD/IDA|              L|{The objective of...|MA Accountability...|[{30-SEP-2013, PG...|                IBRD|              Active|Middle East and N...|[{General public ...|{General public a...|{Central governme...|{Public administr...|                null|[{BZ, General pub...|      BM,BC,BZ|  IBRD|Active|                   N|{Other accountabi...|[{29, Other accou...|      27,30,29|200000000|   200000000|http://www.worldb...|\n",
      "|{52b213b38594d8a2...|      2014|             October|2013-10-25T00:00:00Z|GOVERNMENT OF SOU...|                null|Republic of South...|         SS|Republic of South...|       South Sudan|Project Paper,Pro...|                       B| 7530000|          0|P145339|         0|MINISTRY OF AGRIC...|Specific Investme...|              IN|        7530000|[{Agriculture, fi...|[{AX, Agriculture...| [Rural development]|[{10, Rural devel...|       10,2|      RE|Recipient Execute...|              L|{The development ...|Southern Sudan Em...|[{01-OCT-2013, PJ...|               OTHER|              Active|              Africa|[{Crops}, {Other ...|         {Crops, 50}|{Other social ser...|{General agricult...|                null|[{AH, Crops}, {JB...|      AZ,JB,AH|  IBRD|Active|                   Y|{Global food cris...|[{91, Global food...|            91|        0|     7530000|http://www.worldb...|\n",
      "|{52b213b38594d8a2...|      2014|             October|2013-10-25T00:00:00Z|                null|2017-12-31T00:00:00Z|Republic of India...|         IN|   Republic of India|             India|Project Appraisal...|                       B|       0|          0|P146653| 250000000|                null|Investment Projec...|              IN|      250000000|[{Transportation,...|[{TX, Transportat...|[Rural developmen...|[{10, Rural devel...|  10,6,6,11|      PE|            IBRD/IDA|              L|{The objective of...|Uttarakhand Disas...|[{11-OCT-2013, PA...|                 IDA|              Active|          South Asia|[{Rural and Inter...|{Rural and Inter-...|{Flood protection...|{Housing construc...|{Other social ser...|[{TI, Rural and I...|   JB,YC,WD,TI|  IBRD|Active|                   N|{Rural services a...|[{78, Rural servi...|   81,87,52,78|250000000|   250000000|http://www.worldb...|\n",
      "|{52b213b38594d8a2...|      2014|             October|2013-10-24T00:00:00Z| GOVERNMENT OF GHANA|2019-06-30T00:00:00Z|Republic of Ghana...|         GH|   Republic of Ghana|             Ghana|Project Appraisal...|                       C|       0|          0|P144140|  97000000|MINISTRY OF COMMU...|Specific Investme...|              IN|       97000000|[{Information and...|[{CX, Information...|                null|             [{4, }]|          4|      PE|            IBRD/IDA|              L|{The development ...| GH eTransform Ghana|[{26-SEP-2013, PA...|                 IDA|              Active|              Africa|[{General informa...|{General informat...|                null|                null|                null|[{CZ, General inf...|            CZ|  IBRD|Active|                   N|               {, 0}|                null|          null| 97000000|    97000000|http://www.worldb...|\n",
      "|{52b213b38594d8a2...|      2014|             October|2013-10-22T00:00:00Z|GOVERNMENT OF TIM...|                null|Democratic Republ...|         TP|Democratic Republ...|       Timor-Leste|Integrated Safegu...|                       B|       0|   15000000|P130975|  25000000|MINISTRY OF INFRA...|Specific Investme...|              IN|       92000000|[{Transportation,...|[{TX, Transportat...|[Trade and integr...|[{5, Trade and in...|    5,11,10|      PE|            IBRD/IDA|              L|{The development ...|Timor Leste Road ...|[{11-SEP-2012, IS...|                IBRD|              Active|East Asia and Pac...|[{Rural and Inter...|{Rural and Inter-...|{Public administr...|                null|                null|[{TI, Rural and I...|         BV,TI|  IBRD|Active|                   Y|{Regional integra...|[{47, Regional in...|      78,81,47| 40000000|    40000000|http://www.worldb...|\n",
      "|{52b213b38594d8a2...|      2014|             October|2013-10-22T00:00:00Z|GOVERNMENT OF JORDAN|                null|Hashemite Kingdom...|         JO|Hashemite Kingdom...|            Jordan|                null|                       C| 9500000|          0|P144832|         0|MINISTRY OF PLANN...|Technical Assista...|              IN|       10000000|[{Health and othe...|[{JX, Health and ...|[Social protectio...|[{6, Social prote...|      6,6,6|      RE|Recipient Execute...|              L|                null|NATIONAL UNIFIED ...|                null|               OTHER|              Active|Middle East and N...|[{Other social se...|{Other social ser...|                null|                null|                null|[{JB, Other socia...|            JB|  IBRD|Active|                   N|{Social safety ne...|[{54, Social safe...|      53,56,54|        0|     9500000|http://www.worldb...|\n",
      "|{52b213b38594d8a2...|      2014|             October|2013-10-17T00:00:00Z| MINISTRY OF FINANCE|2019-04-30T00:00:00Z|          Samoa!$!WS|         WS|               Samoa|             Samoa|Environmental Ass...|                       B|       0|          0|P145545|  20000000|LAND TRANSPORT AU...|Investment Projec...|              IN|       20000000|[{Transportation,...|[{TX, Transportat...|[Rural developmen...|[{10, Rural devel...|    10,11,5|      PE|            IBRD/IDA|              L|{The development ...|Enhanced Road Acc...|[{21-AUG-2013, EA...|                 IDA|              Active|East Asia and Pac...|[{Rural and Inter...|{Rural and Inter-...|                null|                null|                null|[{TI, Rural and I...|            TI|  IBRD|Active|                   N|{Rural services a...|[{78, Rural servi...|      49,81,78| 20000000|    20000000|http://www.worldb...|\n",
      "|{52b213b38594d8a2...|      2014|             October|2013-10-17T00:00:00Z| MINISTRY OF FINANCE|2015-12-31T00:00:00Z|          Samoa!$!WS|         WS|               Samoa|             Samoa|Project Appraisal...|                       B|       0|          0|P145938|   5000000|MINISTRY OF AGRIC...|Investment Projec...|              IN|        5000000|[{Agriculture, fi...|[{AX, Agriculture...| [Rural development]|[{10, Rural devel...|       10,2|      PE|            IBRD/IDA|              L|{The development ...|Samoa Agriculture...|[{19-SEP-2013, PA...|                 IDA|              Active|East Asia and Pac...|[{Crops}, {Animal...|         {Crops, 50}|{Animal productio...|{General agricult...|                null|[{AH, Crops}, {AJ...|      AZ,AJ,AH|  IBRD|Active|                   N|{Other rural deve...|[{79, Other rural...|            79|  5000000|     5000000|http://www.worldb...|\n",
      "|{52b213b38594d8a2...|      2014|             October|2013-10-16T00:00:00Z|MINISTRY OF FINAN...|                null|Republic of Madag...|         MG|Republic of Madag...|        Madagascar|Integrated Safegu...|                       B|85400000|          0|P132616|         0|MINISTRY OF EDUCA...|Emergency Recover...|              IN|       85400000|  [{Education, 100}]|   [{EX, Education}]| [Human development]|[{8, Human develo...|        8,7|      RE|Recipient Execute...|              L|                null|Emergency Support...|[{21-SEP-2013, IS...|               OTHER|              Active|              Africa|[{Primary educati...|{Primary educatio...|                null|                null|                null|[{EP, Primary edu...|            EP|  IBRD|Active|                   N|{Education for al...|[{65, Education f...|            65|        0|    85400000|http://www.worldb...|\n",
      "|{52b213b38594d8a2...|      2014|             October|2013-10-16T00:00:00Z|ROYAL GOVERNMENT ...|                null|Kingdom of Cambod...|         KH| Kingdom of Cambodia|          Cambodia|Project Informati...|                       B|13450000|          0|P146271|         0|  MINISTRY OF HEALTH|Investment Projec...|              IN|       13450000|[{Health and othe...|[{JX, Health and ...|[Human developmen...|[{8, Human develo...|  8,8,2,7,8|      RE|Recipient Execute...|              L|                null|Additional Financ...|[{14-OCT-2013, PI...|               OTHER|              Active|East Asia and Pac...|[{Health}, {Centr...|        {Health, 44}|{Central governme...|{Sub-national gov...|{Other social ser...|[{JA, Health}, {B...|BK,JB,BH,BC,JA|  IBRD|Active|                   Y|  {Child health, 17}|[{63, Child healt...|69,57,25,67,63|        0|    13450000|http://www.worldb...|\n",
      "|{52b213b38594d8a2...|      2014|             October|2013-10-10T00:00:00Z| MINISTRY OF FINANCE|                null|Kingdom of Morocc...|         MA|  Kingdom of Morocco|           Morocco|Project Informati...|                       C| 4350000|          0|P143979|         0| MINISTRY OF FINANCE|Specific Investme...|              IN|        4550000|[{Public Administ...|[{BX, Public Admi...|[Public sector go...|[{2, Public secto...|      2,2,2|      RE|Recipient Execute...|              L|                null|DTF:MA- Support N...|[{23-JAN-2013, PI...|               OTHER|              Active|Middle East and N...|[{General public ...|{General public a...|{Central governme...|{Sub-national gov...|                null|[{BZ, General pub...|      BH,BC,BZ|  IBRD|Active|                   N|{Public expenditu...|[{27, Public expe...|      25,26,27|        0|     4350000|http://www.worldb...|\n",
      "+--------------------+----------+--------------------+--------------------+--------------------+--------------------+--------------------+-----------+--------------------+------------------+--------------------+------------------------+--------+-----------+-------+----------+--------------------+--------------------+----------------+---------------+--------------------+--------------------+--------------------+--------------------+-----------+--------+--------------------+---------------+--------------------+--------------------+--------------------+--------------------+--------------------+--------------------+--------------------+--------------------+--------------------+--------------------+--------------------+--------------------+--------------+------+------+--------------------+--------------------+--------------------+--------------+---------+------------+--------------------+\n",
      "only showing top 20 rows\n",
      "\n"
     ]
    }
   ],
   "source": [
    "#El mismo json en formato Tabular\n",
    "world_bank.show()"
   ]
  },
  {
   "cell_type": "code",
   "execution_count": 10,
   "metadata": {},
   "outputs": [],
   "source": [
    "#creamos la tabla en memoria para poder levantarlo y trabajarlo como sql\n",
    "world_bank.createOrReplaceTempView(\"world_bank_projects\")"
   ]
  },
  {
   "cell_type": "code",
   "execution_count": 11,
   "metadata": {},
   "outputs": [
    {
     "name": "stdout",
     "output_type": "stream",
     "text": [
      "+----------------+--------------------+---------+------------+\n",
      "|countryshortname|        project_name| totalamt|totalcommamt|\n",
      "+----------------+--------------------+---------+------------+\n",
      "|     Afghanistan|Afghanistan Agric...|        0|    74730000|\n",
      "|     Afghanistan|AF: Development P...| 50000000|    50000000|\n",
      "|     Afghanistan|Afghanistan: Safe...| 12500000|    12500000|\n",
      "|     Afghanistan|Afghanistan - Sec...| 55000000|    55000000|\n",
      "|     Afghanistan|Afghanistan: Syst...|100000000|   100000000|\n",
      "|     Afghanistan|Afghanistan: Nati...|        0|   100000000|\n",
      "|          Africa|West Africa  Regi...|        0|    10000000|\n",
      "|          Africa|RCIP4 - Regional ...| 22000000|    22000000|\n",
      "|          Africa|Building Resilien...|        0|     4630000|\n",
      "|          Africa|Fighting against ...|        0|     2000000|\n",
      "|          Africa|Regional Rusumo F...|339900000|   339900000|\n",
      "|          Africa|Additional Financ...| 60000000|    60000000|\n",
      "|          Africa|West Africa Regio...| 60000000|    60000000|\n",
      "|          Africa|Southern Africa T...|213000000|   213000000|\n",
      "|          Africa|Agricultural Prod...| 90000000|    90000000|\n",
      "|          Africa|Nile Cooperation ...|        0|    15300000|\n",
      "|          Africa|First Part of the...|203000000|   203000000|\n",
      "|         Albania|Albania MDTF for ...|        0|      350000|\n",
      "|         Albania|Second MDTF for C...|        0|     4170000|\n",
      "|         Albania|Water Resources a...| 40000000|    40000000|\n",
      "+----------------+--------------------+---------+------------+\n",
      "only showing top 20 rows\n",
      "\n"
     ]
    }
   ],
   "source": [
    "spark.sql('select countryshortname, project_name, totalamt, totalcommamt from world_bank_projects order by countryshortname').show()"
   ]
  },
  {
   "cell_type": "code",
   "execution_count": 24,
   "metadata": {},
   "outputs": [
    {
     "name": "stdout",
     "output_type": "stream",
     "text": [
      "+--------------------+------------+------------+\n",
      "|             country|num_projects|total_amount|\n",
      "+--------------------+------------+------------+\n",
      "|               India|          16|  2595700000|\n",
      "|              Brazil|           9|  2326200000|\n",
      "|           Indonesia|          19|  2045500000|\n",
      "|             Vietnam|          17|  1832400000|\n",
      "|          Bangladesh|          12|  1566500000|\n",
      "|               China|          19|  1540000000|\n",
      "|              Poland|           1|  1307800000|\n",
      "|              Turkey|           4|  1301000000|\n",
      "|            Ethiopia|           4|  1245000000|\n",
      "|             Nigeria|           7|  1220000000|\n",
      "|              Africa|          11|   987900000|\n",
      "|            Colombia|           3|   950000000|\n",
      "|               Kenya|           6|   875000000|\n",
      "|             Morocco|          12|   793200000|\n",
      "|            Pakistan|           9|   744000000|\n",
      "|             Myanmar|           3|   660000000|\n",
      "|          Mozambique|          11|   657000000|\n",
      "|            Tanzania|           8|   606460000|\n",
      "|Egypt, Arab Repub...|           2|   585400000|\n",
      "|             Tunisia|           4|   500000000|\n",
      "+--------------------+------------+------------+\n",
      "only showing top 20 rows\n",
      "\n"
     ]
    }
   ],
   "source": [
    "projects_by_country = spark.sql('select countryshortname as country, count(project_name) as num_projects, sum(totalamt) as total_amount from world_bank_projects group by countryshortname order by total_amount desc')\n",
    "projects_by_country.show()\n"
   ]
  },
  {
   "cell_type": "markdown",
   "metadata": {},
   "source": [
    "<b>Ejercicio 3<b><p></p>\n",
    "A partir del dataframe projects_by_country encontrar el monto promedio por proyecto para Uruguay y Bolivia"
   ]
  },
  {
   "cell_type": "code",
   "execution_count": 15,
   "metadata": {},
   "outputs": [],
   "source": [
    "projects_by_country.createOrReplaceTempView(\"projects_by_country\")\n"
   ]
  },
  {
   "cell_type": "code",
   "execution_count": 17,
   "metadata": {},
   "outputs": [
    {
     "name": "stdout",
     "output_type": "stream",
     "text": [
      "root\n",
      " |-- country: string (nullable = true)\n",
      " |-- num_projects: long (nullable = false)\n",
      " |-- total_amount: long (nullable = true)\n",
      "\n"
     ]
    }
   ],
   "source": [
    "projects_by_country.printSchema()"
   ]
  },
  {
   "cell_type": "code",
   "execution_count": 21,
   "metadata": {},
   "outputs": [
    {
     "name": "stdout",
     "output_type": "stream",
     "text": [
      "+-------+-----------------------+\n",
      "|country|monto_Promedio_Proyecto|\n",
      "+-------+-----------------------+\n",
      "|Bolivia|                  3.7E7|\n",
      "|Uruguay|                 1.22E8|\n",
      "+-------+-----------------------+\n",
      "\n"
     ]
    }
   ],
   "source": [
    "spark.sql('select country, AVG(total_amount/num_projects) as monto_Promedio_Proyecto from projects_by_country where country = \"Bolivia\" or country = \"Uruguay\" group by country').show()"
   ]
  },
  {
   "cell_type": "markdown",
   "metadata": {},
   "source": [
    "<b>Ejercicio 4<b><p></p>\n",
    "A partir del dataframe projects_by_country encontrar los 5 paises con mayores montos promedio"
   ]
  },
  {
   "cell_type": "code",
   "execution_count": 23,
   "metadata": {},
   "outputs": [
    {
     "name": "stdout",
     "output_type": "stream",
     "text": [
      "+--------------------+-----------------------+\n",
      "|             country|monto_Promedio_Proyecto|\n",
      "+--------------------+-----------------------+\n",
      "|              Poland|               1.3078E9|\n",
      "|              Turkey|               3.2525E8|\n",
      "|            Colombia|    3.166666666666667E8|\n",
      "|            Ethiopia|               3.1125E8|\n",
      "|Egypt, Arab Repub...|                2.927E8|\n",
      "+--------------------+-----------------------+\n",
      "only showing top 5 rows\n",
      "\n"
     ]
    }
   ],
   "source": [
    "spark.sql('select country, AVG(total_amount/num_projects) as monto_Promedio_Proyecto from projects_by_country group by country order by monto_Promedio_Proyecto DESC ').show(5)"
   ]
  },
  {
   "cell_type": "code",
   "execution_count": null,
   "metadata": {},
   "outputs": [],
   "source": []
  }
 ],
 "metadata": {
  "kernelspec": {
   "display_name": "Python 3 (ipykernel)",
   "language": "python",
   "name": "python3"
  },
  "language_info": {
   "codemirror_mode": {
    "name": "ipython",
    "version": 3
   },
   "file_extension": ".py",
   "mimetype": "text/x-python",
   "name": "python",
   "nbconvert_exporter": "python",
   "pygments_lexer": "ipython3",
   "version": "3.8.8"
  }
 },
 "nbformat": 4,
 "nbformat_minor": 4
}
