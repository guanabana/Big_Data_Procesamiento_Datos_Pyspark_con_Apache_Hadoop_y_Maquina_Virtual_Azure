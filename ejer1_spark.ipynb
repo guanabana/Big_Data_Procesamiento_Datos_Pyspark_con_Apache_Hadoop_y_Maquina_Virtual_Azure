{
 "cells": [
  {
   "cell_type": "code",
   "execution_count": 1,
   "id": "cbf59e0f",
   "metadata": {
    "scrolled": true
   },
   "outputs": [
    {
     "name": "stderr",
     "output_type": "stream",
     "text": [
      "Setting default log level to \"WARN\".\n",
      "To adjust logging level use sc.setLogLevel(newLevel). For SparkR, use setLogLevel(newLevel).\n"
     ]
    },
    {
     "name": "stdout",
     "output_type": "stream",
     "text": [
      "2024-06-10T19:19:55,107 WARN [Thread-4] org.apache.hadoop.util.NativeCodeLoader - Unable to load native-hadoop library for your platform... using builtin-java classes where applicable\n"
     ]
    }
   ],
   "source": [
    "#Trabajaremos sobre HDFS que simula ser un cluster.\n",
    "#En un datalake no hay que crear esta variable con el spark context que interpreta las tareas que le defina\n",
    "\n",
    "import pyspark\n",
    "sc = pyspark.SparkContext('local[*]')"
   ]
  },
  {
   "cell_type": "code",
   "execution_count": 2,
   "id": "edf4cabf",
   "metadata": {},
   "outputs": [],
   "source": [
    "#creamos unos datos artificales con los que vamos a trabajar en el cluster\n",
    "\n",
    "import random\n",
    "import uuid\n",
    "\n",
    "clientes = [str(uuid.uuid4()), str(uuid.uuid4()), str(uuid.uuid4()), str(uuid.uuid4()), str(uuid.uuid4())]\n",
    "\n",
    "def generate_transaction():\n",
    "    \"\"\"\n",
    "    Regresa una transacción falsa, la primera columna es el número de tarjeta ofuscado, las demás\n",
    "    columnas son el comercio, la acción realizada en el comercio y el monto de la acción.\n",
    "    Devuelve una cadena separada por pipes (|)\n",
    "    \"\"\"\n",
    "    comercio = ['ARENA COLISEO', 'SUPERCITO', 'RESTAURANTE EL TRABAJO']\n",
    "    accion = ['RETIRO', 'COMPRA']\n",
    "    \n",
    "    return \"%s|%s|%s|%s\" % (random.choice(clientes), random.choice(comercio), random.choice(accion), random.randint(10, 10000))"
   ]
  },
  {
   "cell_type": "code",
   "execution_count": 3,
   "id": "26847b9f",
   "metadata": {},
   "outputs": [],
   "source": [
    "# creamos un archivo de transacciones \n",
    "\n",
    "def generate_transactions(number=10000):\n",
    "    \"\"\"\n",
    "    Regresa una lista de transacciones falsa.\n",
    "    \"\"\"\n",
    "    txs = []\n",
    "    for i in range(number):\n",
    "        txs.append(generate_transaction())\n",
    "    return txs"
   ]
  },
  {
   "cell_type": "code",
   "execution_count": 4,
   "id": "cbc112bd",
   "metadata": {},
   "outputs": [],
   "source": [
    "# creamos un RDD en memoría con método parallelize\n",
    "# Genera un millón de transacciones falsas.Distribuye estas transacciones en un RDD usando el SparkContext (sc).\n",
    "# Asigna este RDD a la variable txs\n",
    "\n",
    "txs = sc.parallelize(generate_transactions(number=1000000)) #ES UNA TRANSFORMACIÓN POR ESO NO DEMORA\n",
    "# acá todavía no lo generó, solo le dijo que hacer"
   ]
  },
  {
   "cell_type": "code",
   "execution_count": 5,
   "id": "b5953665-6ead-40a8-96d9-081429866bce",
   "metadata": {},
   "outputs": [
    {
     "name": "stderr",
     "output_type": "stream",
     "text": [
      "[Stage 0:>                                                          (0 + 1) / 1]\r"
     ]
    },
    {
     "name": "stdout",
     "output_type": "stream",
     "text": [
      "2024-06-10T19:25:00,889 WARN [dispatcher-event-loop-0] org.apache.spark.scheduler.TaskSetManager - Stage 0 contains a task of very large size (32501 KiB). The maximum recommended task size is 1000 KiB.\n"
     ]
    },
    {
     "name": "stderr",
     "output_type": "stream",
     "text": [
      "                                                                                \r"
     ]
    },
    {
     "data": {
      "text/plain": [
       "['34220fd5-02d3-48ce-89f0-b9bd3fcd3e9a|ARENA COLISEO|RETIRO|2135',\n",
       " 'f4922ec0-9318-40a1-8e50-1324e57f7c69|ARENA COLISEO|COMPRA|1820',\n",
       " '7a2abb43-6cc5-46a1-9395-c5a98a5c4c1b|RESTAURANTE EL TRABAJO|RETIRO|5816',\n",
       " '7a2abb43-6cc5-46a1-9395-c5a98a5c4c1b|ARENA COLISEO|RETIRO|7209',\n",
       " 'f4922ec0-9318-40a1-8e50-1324e57f7c69|SUPERCITO|RETIRO|7626']"
      ]
     },
     "execution_count": 5,
     "metadata": {},
     "output_type": "execute_result"
    }
   ],
   "source": [
    "#vermos los 5 primeros del millon de filas generadas en RDD EN MEMORIA DE MAQUINAS DE CLUSTER\n",
    "txs.take(5) #ES UNA ACCIÓN "
   ]
  },
  {
   "cell_type": "code",
   "execution_count": 6,
   "id": "dc214aab",
   "metadata": {},
   "outputs": [
    {
     "name": "stdout",
     "output_type": "stream",
     "text": [
      "2024-06-10T20:15:34,582 WARN [dispatcher-event-loop-0] org.apache.spark.scheduler.TaskSetManager - Stage 1 contains a task of very large size (32501 KiB). The maximum recommended task size is 1000 KiB.\n"
     ]
    },
    {
     "name": "stderr",
     "output_type": "stream",
     "text": [
      "                                                                                \r"
     ]
    }
   ],
   "source": [
    "#GUARDA El millon de filas RDD que están en memori a disco duro en HDFS para después usarlo en un DataFrame\n",
    "#La ruta que pongo es de HDFS porque Spark interatua sobre el cluster no localmente como lo hace Pandas que lo hace sobre el lugar del jupyte -notebook\n",
    "#Generamos un archivo distribuido en particiones en el datalake\n",
    "\n",
    "txs.saveAsTextFile(\"output/raw/transacciones\")"
   ]
  },
  {
   "cell_type": "code",
   "execution_count": null,
   "id": "53590a0c",
   "metadata": {},
   "outputs": [],
   "source": []
  }
 ],
 "metadata": {
  "kernelspec": {
   "display_name": "Python 3 (ipykernel)",
   "language": "python",
   "name": "python3"
  },
  "language_info": {
   "codemirror_mode": {
    "name": "ipython",
    "version": 3
   },
   "file_extension": ".py",
   "mimetype": "text/x-python",
   "name": "python",
   "nbconvert_exporter": "python",
   "pygments_lexer": "ipython3",
   "version": "3.8.8"
  }
 },
 "nbformat": 4,
 "nbformat_minor": 5
}
